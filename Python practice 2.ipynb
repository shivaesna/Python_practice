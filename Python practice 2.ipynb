{
 "cells": [
  {
   "cell_type": "code",
   "execution_count": 1,
   "metadata": {},
   "outputs": [
    {
     "name": "stdout",
     "output_type": "stream",
     "text": [
      "Ah, so your name is shi, your quest is life, and your favorite color is red.\n"
     ]
    }
   ],
   "source": [
    "name = \"shi\"\n",
    "quest = \"life\"\n",
    "color = \"red\"\n",
    "\n",
    "print (\"Ah, so your name is %s, your quest is %s, and your favorite color is %s.\"%(name, quest, color))"
   ]
  },
  {
   "cell_type": "code",
   "execution_count": 3,
   "metadata": {},
   "outputs": [
    {
     "name": "stdout",
     "output_type": "stream",
     "text": [
      "3\n",
      "HEY\n"
     ]
    }
   ],
   "source": [
    "my_string = \"hey\"\n",
    "print (len(my_string ))\n",
    "print (my_string.upper())"
   ]
  },
  {
   "cell_type": "code",
   "execution_count": 3,
   "metadata": {},
   "outputs": [
    {
     "name": "stdout",
     "output_type": "stream",
     "text": [
      "10/21/2019\n",
      "10:55:47\n"
     ]
    }
   ],
   "source": [
    "from datetime import datetime\n",
    "now = datetime.now()\n",
    "\n",
    "print ('%02d/%02d/%04d' % (now.month, now.day, now.year))\n",
    "print ('%02d:%02d:%02d' % (now.hour, now.minute, now.second))"
   ]
  },
  {
   "cell_type": "code",
   "execution_count": 2,
   "metadata": {},
   "outputs": [
    {
     "name": "stdout",
     "output_type": "stream",
     "text": [
      "A\n",
      "C\n",
      "F\n"
     ]
    }
   ],
   "source": [
    "# Complete the if and elif statements!\n",
    "def grade_converter(grade):\n",
    "    if grade >= 90:\n",
    "        return \"A\"\n",
    "    elif 80 <= grade <= 89:\n",
    "        return \"B\"\n",
    "    elif 70 <= grade <= 79:\n",
    "        return \"C\"\n",
    "    elif 65 <= grade <= 69:\n",
    "        return \"D\"\n",
    "    else:\n",
    "        return \"F\"\n",
    "      \n",
    "# This should print an \"A\"      \n",
    "print (grade_converter(92))\n",
    "\n",
    "# This should print a \"C\"\n",
    "print (grade_converter(70))\n",
    "\n",
    "# This should print an \"F\"\n",
    "print (grade_converter(61))"
   ]
  },
  {
   "cell_type": "code",
   "execution_count": 5,
   "metadata": {},
   "outputs": [
    {
     "name": "stdout",
     "output_type": "stream",
     "text": [
      "Enter a word:fds\n",
      "fds dsfay\n"
     ]
    }
   ],
   "source": [
    "pyg = 'ay'\n",
    "\n",
    "original = input('Enter a word:')\n",
    "\n",
    "if len(original) > 0 and original.isalpha():   #checks the characters are alphabets\n",
    "  word = original.lower()\n",
    "  first = word[0]\n",
    "  new_word = word[1:len(word)] + first + pyg\n",
    "  print (original, new_word)\n",
    "else:\n",
    "  print ('empty')"
   ]
  },
  {
   "cell_type": "code",
   "execution_count": 5,
   "metadata": {},
   "outputs": [
    {
     "name": "stdout",
     "output_type": "stream",
     "text": [
      "7.8\n",
      "Nope\n"
     ]
    }
   ],
   "source": [
    "def distance_from_zero (dd):\n",
    "  if type(dd) == int or type(dd) == float:\n",
    "    return abs(dd)\n",
    "  else:\n",
    "    return \"Nope\"\n",
    "\n",
    "print(distance_from_zero(-7.8))\n",
    "print(distance_from_zero(\"hi\"))"
   ]
  },
  {
   "cell_type": "code",
   "execution_count": 2,
   "metadata": {},
   "outputs": [
    {
     "name": "stdout",
     "output_type": "stream",
     "text": [
      "1815\n"
     ]
    }
   ],
   "source": [
    "def hotel_cost(nights):\n",
    "  return nights*140\n",
    "\n",
    "def plane_ride_cost (city):\n",
    "  if city == \"Charlotte\":\n",
    "    return 183\n",
    "  elif city == \"Tampa\":\n",
    "    return 220\n",
    "  elif city == \"Pittsburgh\":\n",
    "    return 222\n",
    "  else:\n",
    "    return 475\n",
    "  \n",
    "def rental_car_cost(days):\n",
    "    if days >= 7:\n",
    "      cost= days * 40 - 50\n",
    "    elif days >= 3:\n",
    "        cost = days * 40 - 20\n",
    "    else:\n",
    "        cost = days * 40\n",
    "    return cost\n",
    "  \n",
    "def trip_cost(city,days,spending_money):\n",
    "  return rental_car_cost(days)+hotel_cost(days - 1)+plane_ride_cost(city)+spending_money\n",
    "\n",
    "print (trip_cost(\"Los Angeles\",5,600))"
   ]
  },
  {
   "cell_type": "code",
   "execution_count": 1,
   "metadata": {},
   "outputs": [
    {
     "name": "stdout",
     "output_type": "stream",
     "text": [
      "['aardvark', 'badger', 'cobra', 'duck', 'emu', 'fennec fox']\n"
     ]
    }
   ],
   "source": [
    "animals = [\"aardvark\", \"badger\", \"duck\", \"emu\", \"fennec fox\"]\n",
    "duck_index = animals.index(\"duck\")# Use index() to find \"duck\"\n",
    "\n",
    "# Your code here!\n",
    "animals.insert(duck_index,\"cobra\")\n",
    "\n",
    "print (animals) # Observe what prints after the insert operation"
   ]
  },
  {
   "cell_type": "code",
   "execution_count": 6,
   "metadata": {},
   "outputs": [
    {
     "name": "stdout",
     "output_type": "stream",
     "text": [
      "[1, 4, 9, 16, 25]\n"
     ]
    }
   ],
   "source": [
    "start_list = [5, 3, 1, 2, 4]\n",
    "square_list = []\n",
    "\n",
    "# Your code here!\n",
    "\n",
    "for number in start_list:\n",
    "  square_list.append(number**2)\n",
    "\n",
    "square_list.sort()\n",
    "print (square_list)"
   ]
  },
  {
   "cell_type": "code",
   "execution_count": 3,
   "metadata": {},
   "outputs": [
    {
     "name": "stdout",
     "output_type": "stream",
     "text": [
      "{'Atlantic Puffin': 'Arctic Exhibit', 'Rockhopper Penguin': 'babar'}\n"
     ]
    }
   ],
   "source": [
    "# key - animal_name : value - location \n",
    "zoo_animals = { 'Unicorn' : 'Cotton Candy House',\n",
    "'Sloth' : 'Rainforest Exhibit',\n",
    "'Bengal Tiger' : 'Jungle House',\n",
    "'Atlantic Puffin' : 'Arctic Exhibit',\n",
    "'Rockhopper Penguin' : 'Arctic Exhibit'}\n",
    "# A dictionary (or list) declaration may break across multiple lines\n",
    "\n",
    "# Removing the 'Unicorn' entry. (Unicorns are incredibly expensive.)\n",
    "del zoo_animals['Unicorn']\n",
    "\n",
    "# Your code here!\n",
    "del zoo_animals['Sloth']\n",
    "del zoo_animals['Bengal Tiger']\n",
    "\n",
    "zoo_animals['Rockhopper Penguin']='babar'\n",
    "print (zoo_animals)"
   ]
  },
  {
   "cell_type": "code",
   "execution_count": 4,
   "metadata": {},
   "outputs": [],
   "source": [
    "backpack = ['xylophone', 'dagger', 'tent', 'bread loaf']\n",
    "backpack.remove(\"dagger\")"
   ]
  },
  {
   "cell_type": "code",
   "execution_count": 1,
   "metadata": {},
   "outputs": [
    {
     "name": "stdout",
     "output_type": "stream",
     "text": [
      "{'gold': 550, 'pouch': ['flint', 'gemstone', 'twine'], 'backpack': ['bedroll', 'bread loaf', 'xylophone'], 'burlap bag': ['apple', 'small ruby', 'three-toed sloth'], 'pocket': ['seashell', 'strange berry', 'lint']}\n"
     ]
    }
   ],
   "source": [
    "inventory = {\n",
    "  'gold' : 500,\n",
    "  'pouch' : ['flint', 'twine', 'gemstone'], # Assigned a new list to 'pouch' key\n",
    "  'backpack' : ['xylophone','dagger', 'bedroll','bread loaf']\n",
    "}\n",
    "\n",
    "# Adding a key 'burlap bag' and assigning a list to it\n",
    "inventory['burlap bag'] = ['apple', 'small ruby', 'three-toed sloth']\n",
    "\n",
    "# Sorting the list found under the key 'pouch'\n",
    "inventory['pouch'].sort() \n",
    "\n",
    "# Your code here\n",
    "inventory['pocket']=[\"seashell\",\"strange berry\", \"lint\"]\n",
    "\n",
    "inventory['backpack'].sort()\n",
    "inventory['backpack'].remove(\"dagger\")\n",
    "inventory['gold'] = inventory['gold'] + 50\n",
    "print (inventory)"
   ]
  },
  {
   "cell_type": "code",
   "execution_count": 1,
   "metadata": {},
   "outputs": [
    {
     "name": "stdout",
     "output_type": "stream",
     "text": [
      "2\n"
     ]
    }
   ],
   "source": [
    "def fizz_count(x):\n",
    "  count =0\n",
    "  for i in x:\n",
    "    if i == \"fizz\":\n",
    "      count +=1\n",
    "  return count\n",
    "\n",
    "  \n",
    "print (fizz_count([\"fizz\",\"cat\",\"fizz\"]))"
   ]
  },
  {
   "cell_type": "code",
   "execution_count": 1,
   "metadata": {},
   "outputs": [
    {
     "name": "stdout",
     "output_type": "stream",
     "text": [
      "total value is 24\n",
      "total value is 0\n",
      "total value is 48\n",
      "total value is 45\n",
      "117.0\n"
     ]
    }
   ],
   "source": [
    "prices = {\n",
    "  \"banana\" : 4,\n",
    "  \"apple\"  : 2,\n",
    "  \"orange\" : 1.5,\n",
    "  \"pear\"   : 3,\n",
    "}\n",
    "stock = {\n",
    "  \"banana\" : 6,\n",
    "  \"apple\"  : 0,\n",
    "  \"orange\" : 32,\n",
    "  \"pear\"   : 15,\n",
    "}\n",
    "  \n",
    "total = 0\n",
    "for fruit in prices:\n",
    "  print (\"total value is %d\"%(prices[fruit]*stock[fruit]))\n",
    "  total += prices[fruit]*stock[fruit]\n",
    "  \n",
    "print (total)"
   ]
  },
  {
   "cell_type": "code",
   "execution_count": 2,
   "metadata": {},
   "outputs": [
    {
     "name": "stdout",
     "output_type": "stream",
     "text": [
      "4\n"
     ]
    }
   ],
   "source": [
    "shopping_list = [\"banana\", \"orange\", \"apple\"]\n",
    "\n",
    "stock = {\n",
    "  \"banana\": 6,\n",
    "  \"apple\": 0,\n",
    "  \"orange\": 32,\n",
    "  \"pear\": 15\n",
    "}\n",
    "    \n",
    "prices = {\n",
    "  \"banana\": 4,\n",
    "  \"apple\": 2,\n",
    "  \"orange\": 1.5,\n",
    "  \"pear\": 3\n",
    "}\n",
    "\n",
    "# Write your code below!\n",
    "def compute_bill(food):\n",
    "  total = 0\n",
    "  for item in food:\n",
    "    if stock[item]> 0:\n",
    "      total = total + prices[item]\n",
    "      stock[item] -= 1\n",
    "  return total\n",
    "\n",
    "food=[\"banana\",\"apple\"]\n",
    "print (compute_bill(food))"
   ]
  },
  {
   "cell_type": "code",
   "execution_count": 1,
   "metadata": {},
   "outputs": [
    {
     "name": "stdout",
     "output_type": "stream",
     "text": [
      "[1, 2, 3, 4, 5, 6, 7, 8, 9]\n"
     ]
    }
   ],
   "source": [
    "n = [[1, 2, 3], [4, 5, 6, 7, 8, 9]]\n",
    "# Add your function here\n",
    "def flatten (lists):\n",
    "  results=[]\n",
    "  for numbers in lists:\n",
    "    for items in numbers:\n",
    "      results.append(items)\n",
    "  return results\n",
    "\n",
    "\n",
    "\n",
    "print (flatten(n))"
   ]
  },
  {
   "cell_type": "code",
   "execution_count": 1,
   "metadata": {},
   "outputs": [
    {
     "name": "stdout",
     "output_type": "stream",
     "text": [
      "[['O', 'O', 'O', 'O', 'O'], ['O', 'O', 'O', 'O', 'O'], ['O', 'O', 'O', 'O', 'O'], ['O', 'O', 'O', 'O', 'O'], ['O', 'O', 'O', 'O', 'O']]\n",
      "O O O O O\n",
      "O O O O O\n",
      "O O O O O\n",
      "O O O O O\n",
      "O O O O O\n",
      "2\n",
      "1\n",
      "turn 1\n",
      "Guess Row: 1\n",
      "Guess Col: 4\n",
      "You missed my battleship!\n",
      "O O O O O\n",
      "O O O O X\n",
      "O O O O O\n",
      "O O O O O\n",
      "O O O O O\n",
      "turn 2\n",
      "Guess Row: 3\n",
      "Guess Col: 1\n",
      "You missed my battleship!\n",
      "O O O O O\n",
      "O O O O X\n",
      "O O O O O\n",
      "O X O O O\n",
      "O O O O O\n",
      "turn 3\n",
      "Guess Row: 1\n",
      "Guess Col: 3\n",
      "You missed my battleship!\n",
      "O O O O O\n",
      "O O O X X\n",
      "O O O O O\n",
      "O X O O O\n",
      "O O O O O\n",
      "turn 4\n",
      "Guess Row: 3\n",
      "Guess Col: 1\n",
      "You guessed that one already.\n",
      "O O O O O\n",
      "O O O X X\n",
      "O O O O O\n",
      "O X O O O\n",
      "O O O O O\n"
     ]
    }
   ],
   "source": [
    "from random import randint\n",
    "\n",
    "board = []\n",
    "\n",
    "for x in range(5):\n",
    "  board.append([\"O\"] * 5)\n",
    "print (board)\n",
    "\n",
    "\n",
    "def print_board(board):\n",
    "  for row in board:\n",
    "    print (\" \".join(row))\n",
    "\n",
    "print_board(board)\n",
    "\n",
    "def random_row(board):\n",
    "  return randint(0, len(board) - 1)\n",
    "\n",
    "def random_col(board):\n",
    "  return randint(0, len(board[0]) - 1)\n",
    "\n",
    "ship_row = random_row(board)\n",
    "ship_col = random_col(board)\n",
    "print (ship_row)\n",
    "print (ship_col)\n",
    "\n",
    "# Everything from here on should go in your for loop!\n",
    "# Be sure to indent four spaces!\n",
    "for turn in range(4):\n",
    "  print (\"turn\", turn+1)\n",
    "  guess_row = int(input(\"Guess Row: \"))\n",
    "  guess_col = int(input(\"Guess Col: \"))\n",
    "\n",
    "  if guess_row == ship_row and guess_col == ship_col:\n",
    "    print (\"Congratulations! You sunk my battleship!\")\n",
    "    break\n",
    "  else:\n",
    "    if (guess_row < 0 or guess_row > 4) or (guess_col < 0 or guess_col > 4):\n",
    "      print (\"Oops, that's not even in the ocean.\")\n",
    "    elif(board[guess_row][guess_col] == \"X\"):\n",
    "      print (\"You guessed that one already.\")\n",
    "    else:\n",
    "      print (\"You missed my battleship!\")\n",
    "      board[guess_row][guess_col] = \"X\"\n",
    "      if turn==3:\n",
    "        print (\"Game Over\")\n",
    "  # Print (turn + 1) here!\n",
    "  print_board(board)"
   ]
  },
  {
   "cell_type": "code",
   "execution_count": 6,
   "metadata": {},
   "outputs": [
    {
     "name": "stdout",
     "output_type": "stream",
     "text": [
      "Your guess: 2\n",
      "Your guess: 1\n",
      "You win!\n"
     ]
    }
   ],
   "source": [
    "from random import randint\n",
    "\n",
    "# Generates a number from 1 through 10 inclusive\n",
    "random_number = randint(1, 10)\n",
    "\n",
    "guesses_left = 3\n",
    "# Start your game!\n",
    "while guesses_left>0:\n",
    "  guess = input(\"Your guess: \")\n",
    "  guess = int(guess)\n",
    "  num = randint(1, 6)\n",
    "  if guess==num:\n",
    "    print (\"You win!\")\n",
    "    break\n",
    "  guesses_left-=1\n",
    "else:\n",
    "  print (\"You lose.\")"
   ]
  },
  {
   "cell_type": "markdown",
   "metadata": {},
   "source": []
  },
  {
   "cell_type": "code",
   "execution_count": 1,
   "metadata": {},
   "outputs": [
    {
     "name": "stdout",
     "output_type": "stream",
     "text": [
      "10\n"
     ]
    }
   ],
   "source": [
    "def digit_sum(n):\n",
    "  sum=0\n",
    "  for i in range(len(str(n))):\n",
    "    sum+=int(str(n)[i])\n",
    "  return sum\n",
    "\n",
    "print (digit_sum(1234))"
   ]
  },
  {
   "cell_type": "code",
   "execution_count": 2,
   "metadata": {},
   "outputs": [
    {
     "name": "stdout",
     "output_type": "stream",
     "text": [
      "24\n"
     ]
    }
   ],
   "source": [
    "def factorial (x):\n",
    "  product=1\n",
    "  for i in range(1,x+1):\n",
    "    product*=i\n",
    "  return product\n",
    "\n",
    "print (factorial (4))"
   ]
  },
  {
   "cell_type": "code",
   "execution_count": 3,
   "metadata": {},
   "outputs": [
    {
     "name": "stdout",
     "output_type": "stream",
     "text": [
      "hll bk\n"
     ]
    }
   ],
   "source": [
    "def anti_vowel(text):\n",
    "    result = \"\"\n",
    "    vowels = \"ieaouIEAOU\"\n",
    "    for char in text:\n",
    "          if char not in vowels:\n",
    "            result += char\n",
    "    return result\n",
    "print (anti_vowel(\"hello book\"))"
   ]
  },
  {
   "cell_type": "code",
   "execution_count": 4,
   "metadata": {},
   "outputs": [
    {
     "name": "stdout",
     "output_type": "stream",
     "text": [
      "5\n"
     ]
    }
   ],
   "source": [
    "def scrabble_score(word):\n",
    "  score = {\"a\": 1, \"c\": 3, \"b\": 3, \"e\": 1, \"d\": 2, \"g\": 2, \n",
    "         \"f\": 4, \"i\": 1, \"h\": 4, \"k\": 5, \"j\": 8, \"m\": 3, \n",
    "         \"l\": 1, \"o\": 1, \"n\": 1, \"q\": 10, \"p\": 3, \"s\": 1, \n",
    "         \"r\": 1, \"u\": 1, \"t\": 1, \"w\": 4, \"v\": 4, \"y\": 4, \n",
    "         \"x\": 8, \"z\": 10}\n",
    "  \n",
    "  test_word=word.lower()\n",
    "  score_sum=0\n",
    "  for i in test_word:\n",
    "    score_sum+=score[i]\n",
    "  return score_sum\n",
    "\n",
    "print (scrabble_score(\"man\"))"
   ]
  },
  {
   "cell_type": "code",
   "execution_count": 3,
   "metadata": {},
   "outputs": [
    {
     "name": "stdout",
     "output_type": "stream",
     "text": [
      "if you know **** you know ****\n"
     ]
    }
   ],
   "source": [
    "def censor(text,word):\n",
    "  text_splitted= text.split(\" \")\n",
    "  word_count=0\n",
    "  \n",
    "  for i in text_splitted:\n",
    "    if i==word:\n",
    "      \n",
    "      text_splitted[word_count]='*'*len(word)\n",
    "    word_count +=1\n",
    "  return \" \".join(text_splitted)  #adds space between components of a list\n",
    "\n",
    "print (censor(\"if you know jack you know jack\", \"jack\"))\n"
   ]
  },
  {
   "cell_type": "code",
   "execution_count": 2,
   "metadata": {},
   "outputs": [
    {
     "name": "stdout",
     "output_type": "stream",
     "text": [
      "100\n"
     ]
    }
   ],
   "source": [
    "def product(lst):\n",
    "  mult=1\n",
    "  for i in lst:\n",
    "    mult*=i\n",
    "  return mult\n",
    "\n",
    "print (product([4, 5, 5]))"
   ]
  },
  {
   "cell_type": "code",
   "execution_count": 3,
   "metadata": {},
   "outputs": [
    {
     "name": "stdout",
     "output_type": "stream",
     "text": [
      "[1, 2]\n"
     ]
    }
   ],
   "source": [
    "def remove_duplicates(lst):\n",
    "  new_lst=[]\n",
    "  for i in lst:\n",
    "    if i not in new_lst:\n",
    "      new_lst.append(i)\n",
    "  return new_lst\n",
    "\n",
    "print (remove_duplicates([1, 1, 2, 2]))"
   ]
  },
  {
   "cell_type": "code",
   "execution_count": 2,
   "metadata": {},
   "outputs": [
    {
     "name": "stdout",
     "output_type": "stream",
     "text": [
      "dict_items([(1, 'shiva'), (3, 'zhila'), (8, 'me')])\n",
      "dict_keys([1, 3, 8])\n",
      "dict_values(['shiva', 'zhila', 'me'])\n"
     ]
    }
   ],
   "source": [
    "my_dict = {1:'shiva', 3:'zhila', 8:'me'}\n",
    "print (my_dict.items())\n",
    "\n",
    "print (my_dict.keys())\n",
    "\n",
    "print (my_dict.values())"
   ]
  },
  {
   "cell_type": "code",
   "execution_count": 8,
   "metadata": {},
   "outputs": [
    {
     "name": "stdout",
     "output_type": "stream",
     "text": [
      "[8, 64, 216, 512, 1000]\n",
      "[3, 5, 6, 9, 10, 12, 15]\n"
     ]
    }
   ],
   "source": [
    "evens_to_50 = [i**3 for i in range(1,11) if i**3 % 4 == 0] # it is called comprehensive list\n",
    "print (evens_to_50)\n",
    "\n",
    "threes_and_fives =[x for x in range(1,16) if x%3==0 or x%5==0]\n",
    "print (threes_and_fives)"
   ]
  },
  {
   "cell_type": "code",
   "execution_count": 25,
   "metadata": {},
   "outputs": [
    {
     "name": "stdout",
     "output_type": "stream",
     "text": [
      "range(1, 3)\n",
      "range(1, 3, 2)\n"
     ]
    }
   ],
   "source": [
    "my_list = range(1,3) # List of numbers 1 - 10\n",
    "\n",
    "# Add your code below!\n",
    "print (my_list)\n",
    "print (my_list[: : 2]) #first\":\" is for starting zero index, second is for the last index & 2 is for the stride"
   ]
  },
  {
   "cell_type": "code",
   "execution_count": 7,
   "metadata": {
    "scrolled": true
   },
   "outputs": [
    {
     "name": "stdout",
     "output_type": "stream",
     "text": [
      "<filter object at 0x000002152BA1D240>\n",
      "<filter object at 0x000002152BA1D320>\n",
      "<filter object at 0x000002152BA1D358>\n"
     ]
    }
   ],
   "source": [
    "my_list = range(16)\n",
    "print (filter(lambda x: x % 3 == 0, my_list))   #function prgramming  #lambda function\n",
    "\n",
    "languages = [\"HTML\", \"JavaScript\", \"Python\", \"Ruby\"]  \n",
    "print (filter(lambda x: x==\"Python\", languages))  #always use lambda function for a quick function\n",
    "\n",
    "squares=[x**2 for x in range(1,11)]\n",
    "print (filter(lambda x: x>30 and x<70, squares))"
   ]
  },
  {
   "cell_type": "code",
   "execution_count": 9,
   "metadata": {
    "scrolled": true
   },
   "outputs": [
    {
     "name": "stdout",
     "output_type": "stream",
     "text": [
      "I am the secret message!\n"
     ]
    }
   ],
   "source": [
    "garbled = \"!XeXgXaXsXsXeXmX XtXeXrXcXeXsX XeXhXtX XmXaX XI\"\n",
    "\n",
    "message = garbled[::-2]\n",
    "print (message)"
   ]
  },
  {
   "cell_type": "code",
   "execution_count": 11,
   "metadata": {},
   "outputs": [
    {
     "name": "stdout",
     "output_type": "stream",
     "text": [
      "<filter object at 0x000002152BA03710>\n"
     ]
    }
   ],
   "source": [
    "garbled = \"IXXX aXXmX aXXXnXoXXXXXtXhXeXXXXrX sXXXXeXcXXXrXeXt mXXeXsXXXsXaXXXXXXgXeX!XX\"\n",
    "\n",
    "message = filter(lambda x: x != \"X\", garbled)\n",
    "print (message)"
   ]
  },
  {
   "cell_type": "code",
   "execution_count": 2,
   "metadata": {},
   "outputs": [
    {
     "name": "stdout",
     "output_type": "stream",
     "text": [
      "12\n"
     ]
    }
   ],
   "source": [
    "one = 0b1   #bitwise in python: use 0b\n",
    "two = 0b10\n",
    "three = 0b11\n",
    "four = 0b100\n",
    "five = 0b101\n",
    "six = 0b110\n",
    "seven = 0b111\n",
    "eight = 0b1000\n",
    "nine = 0b1001\n",
    "ten = 0b1010\n",
    "eleven = 0b1011\n",
    "twelve = 0b1100\n",
    "\n",
    "print(twelve)"
   ]
  },
  {
   "cell_type": "code",
   "execution_count": 4,
   "metadata": {},
   "outputs": [
    {
     "name": "stdout",
     "output_type": "stream",
     "text": [
      "0b1101\n",
      "0o15\n",
      "0xd\n"
     ]
    }
   ],
   "source": [
    "print (bin(13))  #to print in binary\n",
    "print (oct(13))  #to print in base 8\n",
    "print (hex(13))  #to print in base 16"
   ]
  },
  {
   "cell_type": "code",
   "execution_count": 6,
   "metadata": {},
   "outputs": [
    {
     "name": "stdout",
     "output_type": "stream",
     "text": [
      "201\n"
     ]
    }
   ],
   "source": [
    "print (int(\"11001001\", 2))  #When given a string containing a number and the base that number is in, the function will return the value of that number converted to base ten."
   ]
  },
  {
   "cell_type": "code",
   "execution_count": 1,
   "metadata": {},
   "outputs": [
    {
     "name": "stdout",
     "output_type": "stream",
     "text": [
      "0b11\n",
      "3\n",
      "0b100\n"
     ]
    }
   ],
   "source": [
    "shift_right = 0b1100\n",
    "shift_left = 0b1\n",
    "\n",
    "# Your code here!\n",
    "shift_right = shift_right >> 2  #shift all the gifite 2 slots to the right (for right don't increase number of digits 0b0000010 >> 2 == 0b000000 (2 >> 2 = 0))\n",
    "shift_left = shift_left <<2\n",
    "\n",
    "print (bin(shift_right))\n",
    "print ((shift_right))\n",
    "print (bin(shift_left))"
   ]
  },
  {
   "cell_type": "code",
   "execution_count": 4,
   "metadata": {},
   "outputs": [
    {
     "name": "stdout",
     "output_type": "stream",
     "text": [
      "0b100\n",
      "0b1111\n",
      "0b1011\n"
     ]
    }
   ],
   "source": [
    "print (bin(0b1110 & 0b101))  #puts 1 if there is 1 in the slot of both numbers\n",
    "print (bin(0b101 | 0b1110))   #puts 1 if there is 1 in either of the slot of numbers\n",
    "print (bin(0b101 ^ 0b1110))   #puts 1 if there is 1 in either of the slot of numbers but not both"
   ]
  },
  {
   "cell_type": "code",
   "execution_count": 6,
   "metadata": {},
   "outputs": [
    {
     "name": "stdout",
     "output_type": "stream",
     "text": [
      "on\n"
     ]
    }
   ],
   "source": [
    "def check_bit4 (input):         \n",
    " check_num = 0b1000\n",
    " if check_num & input > 1:       #checks if the 4th bit is 1\n",
    "  return \"on\"\n",
    " else:\n",
    "  return \"off\"\n",
    "\n",
    "print (check_bit4(0b01000))"
   ]
  },
  {
   "cell_type": "code",
   "execution_count": 7,
   "metadata": {},
   "outputs": [
    {
     "name": "stdout",
     "output_type": "stream",
     "text": [
      "0b10111111\n"
     ]
    }
   ],
   "source": [
    "a = 0b10111011     \n",
    "\n",
    "mask = 0b100\n",
    "\n",
    "desire = a | mask      #makes the 3rd bit 1\n",
    "print (bin(desire))"
   ]
  },
  {
   "cell_type": "code",
   "execution_count": 9,
   "metadata": {},
   "outputs": [
    {
     "name": "stdout",
     "output_type": "stream",
     "text": [
      "0b1010001\n"
     ]
    }
   ],
   "source": [
    "def flip_bit(number,n):\n",
    "  mask = 0b1 << n-1         #flips n-th bit 1\n",
    "  result = number ^ mask\n",
    "  return bin(result)\n",
    "\n",
    "print (flip_bit(0b1010101,3))"
   ]
  },
  {
   "cell_type": "code",
   "execution_count": 14,
   "metadata": {},
   "outputs": [
    {
     "name": "stdout",
     "output_type": "stream",
     "text": [
      "Jeffrey True\n",
      "Jeffrey\n",
      "True\n",
      "None\n",
      "Jeffrey\n",
      "True\n"
     ]
    }
   ],
   "source": [
    "class Animal(object):  #name has Capital letter, object should go in; calss:pens, object:my blue pen\n",
    "    def __init__ (self, name, is_alive):   #always start the class with init, it needs at least one argument, first argument is almost always self\n",
    "     self.name = name\n",
    "     self.is_alive = is_alive\n",
    "    \n",
    "    def description(self):      #any function defined in the class is called a method, it does operation on the self\n",
    "     print (self.name)\n",
    "     print (self.is_alive)\n",
    "    \n",
    "zebra = Animal(\"Jeffrey\", True)\n",
    "print (zebra.name, zebra.is_alive)\n",
    "zebra.description()"
   ]
  },
  {
   "cell_type": "code",
   "execution_count": 3,
   "metadata": {},
   "outputs": [
    {
     "name": "stdout",
     "output_type": "stream",
     "text": [
      "rice added.\n"
     ]
    }
   ],
   "source": [
    "class ShoppingCart(object):\n",
    "  \"\"\"Creates shopping cart objects\n",
    "  for users of our fine website.\"\"\"\n",
    "  items_in_cart = {}\n",
    "  def __init__(self, customer_name):\n",
    "    self.customer_name = customer_name\n",
    "\n",
    "  def add_item(self, product, price):\n",
    "    \"\"\"Add product to the cart.\"\"\"\n",
    "    if not product in self.items_in_cart:\n",
    "      self.items_in_cart[product] = price\n",
    "      print (product + \" added.\")\n",
    "    else:\n",
    "      print (product + \" is already in the cart.\")\n",
    "\n",
    "  def remove_item(self, product):\n",
    "    \"\"\"Remove product from the cart.\"\"\"\n",
    "    if product in self.items_in_cart:\n",
    "      del self.items_in_cart[product]\n",
    "      print (product + \" removed.\")\n",
    "    else:\n",
    "      print (product + \" is not in the cart.\")\n",
    "\n",
    "my_cart = ShoppingCart(\"Shiva\")\n",
    "my_cart.add_item(\"rice\",200)"
   ]
  },
  {
   "cell_type": "code",
   "execution_count": 5,
   "metadata": {},
   "outputs": [
    {
     "name": "stdout",
     "output_type": "stream",
     "text": [
      "I'm a string that stands in for the contents of your shopping cart!\n",
      "I'm a string that stands in for your order history!\n"
     ]
    }
   ],
   "source": [
    "class Customer(object):\n",
    "  \"\"\"Produces objects that represent customers.\"\"\"\n",
    "  def __init__(self, customer_id):\n",
    "    self.customer_id = customer_id\n",
    "\n",
    "  def display_cart(self):\n",
    "    print (\"I'm a string that stands in for the contents of your shopping cart!\")\n",
    "\n",
    "class ReturningCustomer(Customer):           #argument is the name of class\n",
    "  \"\"\"For customers of the repeat variety.\"\"\"\n",
    "  def display_order_history(self):           #when inheriting from a class, doesn't need the init method(function are called method in python)\n",
    "    print (\"I'm a string that stands in for your order history!\")\n",
    "\n",
    "monty_python = ReturningCustomer(\"ID: 12345\")\n",
    "monty_python.display_cart()                 #when calling a method in a class, it needs paranthesis\n",
    "monty_python.display_order_history()"
   ]
  },
  {
   "cell_type": "code",
   "execution_count": 2,
   "metadata": {},
   "outputs": [
    {
     "name": "stdout",
     "output_type": "stream",
     "text": [
      "200.0\n"
     ]
    }
   ],
   "source": [
    "class Employee(object):                 #for each class the input is either object or a class\n",
    "  \"\"\"Models real-life employees!\"\"\"      #in a class we need some comments at least \"pass\"\n",
    "  def __init__(self, employee_name):    #first argument must be \"self\"\n",
    "    self.employee_name = employee_name   #this is called setting up the arguments #after this if we only send self to other methods(functions), it carries other arguments with it\n",
    "\n",
    "  def calculate_wage(self, hours):       #just need to use self here and it carries employee_name to def\n",
    "    self.hours = hours\n",
    "    return hours * 20.00\n",
    "\n",
    "# Add your code below!\n",
    "class PartTimeEmployee(Employee):     #argument for class is \"object\"or another class name\n",
    "  def calculate_wage(self, hours):\n",
    "    self.hours = hours\n",
    "    return hours * 12.00\n",
    "  \n",
    "  def full_time_wage(self, hours):\n",
    "    return super(PartTimeEmployee, self).calculate_wage(hours) #in order to access the parent's orignial function, use super\n",
    "\n",
    "milton = PartTimeEmployee('Milton')   #since it is a child of Employee, the object should be what employee needs: name\n",
    "print (milton.full_time_wage(10) )      \n"
   ]
  },
  {
   "cell_type": "code",
   "execution_count": 6,
   "metadata": {},
   "outputs": [
    {
     "name": "stdout",
     "output_type": "stream",
     "text": [
      "3\n",
      "True\n"
     ]
    }
   ],
   "source": [
    "class Triangle(object):\n",
    "  number_of_sides = 3       #define variable before init\n",
    "  def __init__(self, angle1, angle2, angle3):\n",
    "    self.angle1 = angle1\n",
    "    self.angle2 = angle2\n",
    "    self.angle3 = angle3\n",
    "    \n",
    "  def check_angles(self):    #just pass the self\n",
    "    if (self.angle1 + self.angle2 + self.angle3) == 180:\n",
    "      return True\n",
    "    else:\n",
    "      return False\n",
    "\n",
    "class Equilateral(Triangle):    #a child of triangle\n",
    "  angle=60\n",
    "  def __init__(self):            #wants to overwrite init from parent, child class can have all the input arguments\n",
    "    self.angle1=self.angle       #overwrites self.angle1\n",
    "    self.angle2=self.angle\n",
    "    self.angle3=self.angle\n",
    "\n",
    "my_triangle=Triangle(90,30,60)\n",
    "print (my_triangle.number_of_sides)\n",
    "print (my_triangle.check_angles())    #check_angles needs () because they have some arguments\n",
    "my_triangle2=Equilateral()"
   ]
  },
  {
   "cell_type": "code",
   "execution_count": 9,
   "metadata": {},
   "outputs": [],
   "source": [
    "class Car(object):\n",
    "  condition = \"new\"\n",
    "  def __init__(self, model, color, mpg):\n",
    "    self.model = model\n",
    "    self.color = color\n",
    "    self.mpg   = mpg\n",
    "   \n",
    "  def display_car(self):\n",
    "    print (\"This is a %s %s with %s MPG.\" % (self.color, self.model, str(self.mpg)))\n",
    "    \n",
    "  def drive_car(self):\n",
    "    self.condition = \"used\"\n",
    "    \n",
    "class ElectricCar(Car):\n",
    "  def __init__(self, model, color, mpg, battery_type):  #since we want to add new argument, we nedd to have all the input arguments of the parent\n",
    "    self.model = model\n",
    "    self.color = color\n",
    "    self.mpg   = mpg\n",
    "    self.battery_type = battery_type\n",
    "  def drive_car(self):\n",
    "    self.condition = \"like new\"   #we cannot just assign a variable here:condition=\"like new\",assignment is done before init.\n",
    "\n",
    "my_car = ElectricCar(\"DeLorean\", \"silver\", 88, \"molten salt\")"
   ]
  },
  {
   "cell_type": "code",
   "execution_count": 10,
   "metadata": {},
   "outputs": [
    {
     "name": "stdout",
     "output_type": "stream",
     "text": [
      "(1, 2, 3)\n"
     ]
    }
   ],
   "source": [
    "class Point3D(object):\n",
    "  def __init__(self, x, y, z):\n",
    "    self.x = x\n",
    "    self.y = y\n",
    "    self.z = z\n",
    "    \n",
    "  def __repr__(self):       #it is short for representation and returns what to present\n",
    "    return \"(%d, %d, %d)\" % (self.x, self.y, self.z)\n",
    "    \n",
    "my_point = Point3D(1, 2, 3)\n",
    "print (my_point)"
   ]
  },
  {
   "cell_type": "code",
   "execution_count": 14,
   "metadata": {},
   "outputs": [],
   "source": [
    "my_list = [i ** 2 for i in range(1, 11)]\n",
    "# Generates a list of squares of the numbers 1 - 10\n",
    "\n",
    "f = open(\"output.txt\", \"r+\")  #opens a text file, f is a file object w is for writing only, r+ is for reading and writing\n",
    "\n",
    "for item in my_list:\n",
    "  f.write(str(item) + \"\\n\")   #writes every item in it one by one ad goes to next line after each entry\n",
    "\n",
    "f.close()        #object has to close\n"
   ]
  },
  {
   "cell_type": "code",
   "execution_count": 16,
   "metadata": {},
   "outputs": [
    {
     "name": "stdout",
     "output_type": "stream",
     "text": [
      "1\n",
      "4\n",
      "9\n",
      "16\n",
      "25\n",
      "36\n",
      "49\n",
      "64\n",
      "81\n",
      "100\n",
      "\n"
     ]
    }
   ],
   "source": [
    "my_file=open(\"output.txt\",\"r\")   #my_file is an object from the class of open() and it needs 2 input\n",
    "print (my_file.read())           #class open() has .write, .read(), .close()\n",
    "my_file.close()                  #class open() needs to be closed"
   ]
  },
  {
   "cell_type": "code",
   "execution_count": 19,
   "metadata": {},
   "outputs": [],
   "source": [
    "with open(\"text.txt\", \"w\") as textfile:   #if we use class open this way, we don't need to close it\n",
    "  textfile.write(\"Success!\")\n",
    "with open(\"practice.txt\",\"w\") as try3:\n",
    "    try3.write(\"bing bing\" +\"\\n\" \"dang dang\")"
   ]
  },
  {
   "cell_type": "code",
   "execution_count": 21,
   "metadata": {},
   "outputs": [
    {
     "name": "stdout",
     "output_type": "stream",
     "text": [
      "True\n"
     ]
    }
   ],
   "source": [
    "with open(\"text.txt\",\"w\") as my_file:\n",
    "  my_file.write(\"manam manam\")\n",
    "\n",
    "if my_file.closed==False:       #.closed is an attribute of class open\n",
    "  my_file.close()                 \n",
    "\n",
    "print (my_file.closed)\n"
   ]
  },
  {
   "cell_type": "code",
   "execution_count": null,
   "metadata": {},
   "outputs": [],
   "source": []
  },
  {
   "cell_type": "code",
   "execution_count": null,
   "metadata": {},
   "outputs": [],
   "source": []
  }
 ],
 "metadata": {
  "kernelspec": {
   "display_name": "Python 3",
   "language": "python",
   "name": "python3"
  },
  "language_info": {
   "codemirror_mode": {
    "name": "ipython",
    "version": 3
   },
   "file_extension": ".py",
   "mimetype": "text/x-python",
   "name": "python",
   "nbconvert_exporter": "python",
   "pygments_lexer": "ipython3",
   "version": "3.7.4"
  }
 },
 "nbformat": 4,
 "nbformat_minor": 2
}
